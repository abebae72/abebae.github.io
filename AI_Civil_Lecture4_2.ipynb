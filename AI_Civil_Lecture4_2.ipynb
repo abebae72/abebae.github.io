{
  "nbformat": 4,
  "nbformat_minor": 0,
  "metadata": {
    "colab": {
      "provenance": [],
      "mount_file_id": "1rijfePUg_q7rKq91KebXPSFQBjqjlsC8",
      "authorship_tag": "ABX9TyPWSRhnl1J/vRi0aweQ2MtH",
      "include_colab_link": true
    },
    "kernelspec": {
      "name": "python3",
      "display_name": "Python 3"
    },
    "language_info": {
      "name": "python"
    }
  },
  "cells": [
    {
      "cell_type": "markdown",
      "metadata": {
        "id": "view-in-github",
        "colab_type": "text"
      },
      "source": [
        "<a href=\"https://colab.research.google.com/github/abebae72/abebae.github.io/blob/main/AI_Civil_Lecture4_2.ipynb\" target=\"_parent\"><img src=\"https://colab.research.google.com/assets/colab-badge.svg\" alt=\"Open In Colab\"/></a>"
      ]
    },
    {
      "cell_type": "code",
      "execution_count": null,
      "metadata": {
        "id": "qrMCkfB4_fI3"
      },
      "outputs": [],
      "source": [
        "# Artificial Intelligence & Civil Engineering : Lecture 4 (Basic Python Language)"
      ]
    },
    {
      "cell_type": "code",
      "source": [
        "# Condition Statements (조건문)"
      ],
      "metadata": {
        "id": "M7kaRYd_B48g"
      },
      "execution_count": null,
      "outputs": []
    },
    {
      "cell_type": "code",
      "source": [
        "# Statement 마지막에 콜론 \":\" 기입 "
      ],
      "metadata": {
        "id": "VIu2hQ4RSB5D"
      },
      "execution_count": null,
      "outputs": []
    },
    {
      "cell_type": "code",
      "source": [
        "# Condition 내에서는 들여쓰기 (Indentation) "
      ],
      "metadata": {
        "id": "LOYpCpchSIoQ"
      },
      "execution_count": null,
      "outputs": []
    },
    {
      "cell_type": "code",
      "source": [
        "# \"for ~ \" Statement\n",
        "   #   \"리스트\"가 많이 사용됨\n",
        "   #   연산자 \"range()\", \"in()\"이 많이 사용됨\n"
      ],
      "metadata": {
        "id": "fiKwVdC7SWcx"
      },
      "execution_count": null,
      "outputs": []
    },
    {
      "cell_type": "code",
      "source": [],
      "metadata": {
        "id": "7o3eucyhSZ5s"
      },
      "execution_count": null,
      "outputs": []
    },
    {
      "cell_type": "code",
      "source": [
        "for a in [3, 5, 7, 9]:\n",
        "  print(a)"
      ],
      "metadata": {
        "colab": {
          "base_uri": "https://localhost:8080/"
        },
        "id": "eoFAcjMOSxMj",
        "outputId": "e5b3aee2-14bd-4b89-f377-6af00fdce7b1"
      },
      "execution_count": null,
      "outputs": [
        {
          "output_type": "stream",
          "name": "stdout",
          "text": [
            "3\n",
            "5\n",
            "7\n",
            "9\n"
          ]
        }
      ]
    },
    {
      "cell_type": "code",
      "source": [
        "for a in range(5):      #      range([시작번호], 종료번호, 스텝수]])\n",
        "  print(a)"
      ],
      "metadata": {
        "colab": {
          "base_uri": "https://localhost:8080/"
        },
        "id": "_WaZaPdyS287",
        "outputId": "68906548-4981-4a29-b29d-f34c8f64a33b"
      },
      "execution_count": null,
      "outputs": [
        {
          "output_type": "stream",
          "name": "stdout",
          "text": [
            "0\n",
            "1\n",
            "2\n",
            "3\n",
            "4\n"
          ]
        }
      ]
    },
    {
      "cell_type": "code",
      "source": [
        "for value in range(1,5):\n",
        "  print(value)"
      ],
      "metadata": {
        "colab": {
          "base_uri": "https://localhost:8080/"
        },
        "id": "tCP68dDiS51S",
        "outputId": "823ea801-bfe9-4883-ea50-cec4a77a7af7"
      },
      "execution_count": null,
      "outputs": [
        {
          "output_type": "stream",
          "name": "stdout",
          "text": [
            "1\n",
            "2\n",
            "3\n",
            "4\n"
          ]
        }
      ]
    },
    {
      "cell_type": "code",
      "source": [
        "squares = []\n",
        "for value in range(1,11):\n",
        "  square = value**2\n",
        "  squares.append(square)\n",
        "print(squares)"
      ],
      "metadata": {
        "colab": {
          "base_uri": "https://localhost:8080/"
        },
        "id": "chj5hVm8TFwq",
        "outputId": "aa370857-d60b-4d57-a3eb-19d9d36c1396"
      },
      "execution_count": null,
      "outputs": [
        {
          "output_type": "stream",
          "name": "stdout",
          "text": [
            "[1, 4, 9, 16, 25, 36, 49, 64, 81, 100]\n"
          ]
        }
      ]
    },
    {
      "cell_type": "code",
      "source": [
        "squares = [value**2 for value in range(1,11)]\n",
        "print(squares)"
      ],
      "metadata": {
        "colab": {
          "base_uri": "https://localhost:8080/"
        },
        "id": "AXKE4qAoTUyp",
        "outputId": "9dc4fe41-3106-488f-b470-bc03126356db"
      },
      "execution_count": null,
      "outputs": [
        {
          "output_type": "stream",
          "name": "stdout",
          "text": [
            "[1, 4, 9, 16, 25, 36, 49, 64, 81, 100]\n"
          ]
        }
      ]
    },
    {
      "cell_type": "code",
      "source": [
        "players = ['철수', '영희', '기범', '석일', '영미']\n",
        "print(\"우리팀에 처음 3명 선수: \")\n",
        "for players in players[:3]:\n",
        "  print(players)"
      ],
      "metadata": {
        "colab": {
          "base_uri": "https://localhost:8080/"
        },
        "id": "PK6YjjVNTzWC",
        "outputId": "66b8b3bc-3306-45e8-a477-5ea89734f3ef"
      },
      "execution_count": null,
      "outputs": [
        {
          "output_type": "stream",
          "name": "stdout",
          "text": [
            "우리팀에 처음 3명 선수: \n",
            "철수\n",
            "영희\n",
            "기범\n"
          ]
        }
      ]
    },
    {
      "cell_type": "code",
      "source": [
        "# if Statement Basic Examples"
      ],
      "metadata": {
        "id": "E4_n6V-QxnXS"
      },
      "execution_count": null,
      "outputs": []
    },
    {
      "cell_type": "code",
      "source": [],
      "metadata": {
        "id": "GnXatFY3yXo5"
      },
      "execution_count": null,
      "outputs": []
    },
    {
      "cell_type": "code",
      "source": [
        "# if ~ else ~ Statement             (Please be sure about \"Indentation\" !)"
      ],
      "metadata": {
        "id": "AI278ON8x2TD"
      },
      "execution_count": null,
      "outputs": []
    },
    {
      "cell_type": "code",
      "source": [
        "a = 1\n",
        "if a == 1:\n",
        "  print('생도 1학년')                # When the if statement is 'True', print!\n",
        "else:\n",
        "  print('생도 2, 3, 4학년')          # When the if statement  is 'False', print!\n",
        "  "
      ],
      "metadata": {
        "colab": {
          "base_uri": "https://localhost:8080/"
        },
        "id": "gNE4v1C1yZbp",
        "outputId": "9080ae53-4942-4f70-cd79-31eda26d4fda"
      },
      "execution_count": 3,
      "outputs": [
        {
          "output_type": "stream",
          "name": "stdout",
          "text": [
            "생도 1학년\n"
          ]
        }
      ]
    },
    {
      "cell_type": "code",
      "source": [
        "a = 2\n",
        "if a == 1:\n",
        "  print('생도 1학년')\n",
        "elif a == 2:\n",
        "  print('생도 2학년')               # When the elif statement is 'True', print!\n",
        "else:\n",
        "  print('생도 3, 4학년')            # When the above all statements are 'False', print!"
      ],
      "metadata": {
        "colab": {
          "base_uri": "https://localhost:8080/"
        },
        "id": "nxffzA-_zA_-",
        "outputId": "11c8d043-8de8-407b-eef1-fbdb2428e070"
      },
      "execution_count": 4,
      "outputs": [
        {
          "output_type": "stream",
          "name": "stdout",
          "text": [
            "생도 2학년\n"
          ]
        }
      ]
    },
    {
      "cell_type": "code",
      "source": [
        "a = 4\n",
        "if a == 1:\n",
        "  print('생도 1학년')\n",
        "elif a == 2:\n",
        "  print('생도 2학년')\n",
        "elif a == 3:\n",
        "  print('생도 3학년')\n",
        "else:\n",
        "  print('생도 4학년')"
      ],
      "metadata": {
        "colab": {
          "base_uri": "https://localhost:8080/"
        },
        "id": "MdYL3Ve_zWx1",
        "outputId": "74a12e1b-47ef-4ee9-fcb7-2082743130dc"
      },
      "execution_count": 5,
      "outputs": [
        {
          "output_type": "stream",
          "name": "stdout",
          "text": [
            "생도 4학년\n"
          ]
        }
      ]
    },
    {
      "cell_type": "code",
      "source": [
        "# if ~ elif ~ else ~ Statement "
      ],
      "metadata": {
        "id": "--FxS24MU-3j"
      },
      "execution_count": null,
      "outputs": []
    },
    {
      "cell_type": "code",
      "source": [
        "a = 13\n",
        "if a < 12:\n",
        "  print(\"Good Morning~\")\n",
        "elif a < 17:                              # Test is conducted until the previous test failed\n",
        "  print(\"Good Afternoon~\")\n",
        "elif a < 21:\n",
        "  print(\"Good Evening~\")\n",
        "else:\n",
        "  print(\"Good Night~\")"
      ],
      "metadata": {
        "colab": {
          "base_uri": "https://localhost:8080/"
        },
        "id": "RQqd_PJGVaaj",
        "outputId": "005b34bd-1a91-4261-dd74-cc426dffcbd0"
      },
      "execution_count": null,
      "outputs": [
        {
          "output_type": "stream",
          "name": "stdout",
          "text": [
            "Good Afternoon~\n"
          ]
        }
      ]
    },
    {
      "cell_type": "code",
      "source": [
        "age = 12\n",
        "if age < 4:\n",
        "  price = 0\n",
        "elif age < 18:\n",
        "  price = 25\n",
        "elif age < 65:\n",
        "  price = 40\n",
        "elif age >= 65:\n",
        "  price = 20                                # Clear Coding\n",
        "print(\"Admission Fee :\", price)"
      ],
      "metadata": {
        "colab": {
          "base_uri": "https://localhost:8080/"
        },
        "id": "qsAHknLvVvfq",
        "outputId": "42f449aa-e153-4670-a64a-32b469731f0f"
      },
      "execution_count": null,
      "outputs": [
        {
          "output_type": "stream",
          "name": "stdout",
          "text": [
            "Admission Fee : 25\n"
          ]
        }
      ]
    },
    {
      "cell_type": "code",
      "source": [
        " # \"if statement\" is frequently used with \"for statement\"!         "
      ],
      "metadata": {
        "id": "uztWkviWUlXq"
      },
      "execution_count": null,
      "outputs": []
    },
    {
      "cell_type": "code",
      "source": [
        "for a in range(1, 4):                       \n",
        "  if a == 3:\n",
        "    print(a)"
      ],
      "metadata": {
        "id": "gHMyMxpqwZ7B",
        "colab": {
          "base_uri": "https://localhost:8080/"
        },
        "outputId": "85e5ed37-2b37-4f71-afa5-f81ee206cbd7"
      },
      "execution_count": 6,
      "outputs": [
        {
          "output_type": "stream",
          "name": "stdout",
          "text": [
            "3\n"
          ]
        }
      ]
    },
    {
      "cell_type": "code",
      "source": [
        "car_list = ['audi', 'benz', 'toyota', 'hyundai']\n",
        "for car in car_list:                                   \n",
        "  if car == 'benz':                                 # if ~\n",
        "    print(car + ' is the best car') \n",
        "  else:                                            # else ~\n",
        "    print(car + ' is not the best car')"
      ],
      "metadata": {
        "colab": {
          "base_uri": "https://localhost:8080/"
        },
        "id": "A5BzbJC5Us0j",
        "outputId": "d031f1b6-8bfe-45a2-be19-62968f8f4468"
      },
      "execution_count": 12,
      "outputs": [
        {
          "output_type": "stream",
          "name": "stdout",
          "text": [
            "audi is not the best car\n",
            "benz is the best car\n",
            "toyota is not the best car\n",
            "hyundai is not the best car\n"
          ]
        }
      ]
    },
    {
      "cell_type": "code",
      "source": [
        "#     \" in \"    \" not in \""
      ],
      "metadata": {
        "id": "e1ied-vLSVRJ"
      },
      "execution_count": null,
      "outputs": []
    },
    {
      "cell_type": "code",
      "source": [
        "toppings = ['mushrooms', 'onions', 'pineapple']\n",
        "'mushrooms' in toppings"
      ],
      "metadata": {
        "id": "U0MHAsm4W9Da",
        "colab": {
          "base_uri": "https://localhost:8080/"
        },
        "outputId": "4cf0ba1b-b1d5-4979-ecdd-cd9d90ce19bb"
      },
      "execution_count": null,
      "outputs": [
        {
          "output_type": "execute_result",
          "data": {
            "text/plain": [
              "True"
            ]
          },
          "metadata": {},
          "execution_count": 2
        }
      ]
    },
    {
      "cell_type": "code",
      "source": [
        "'pepperoni' in toppings"
      ],
      "metadata": {
        "colab": {
          "base_uri": "https://localhost:8080/"
        },
        "id": "rImbeq7yRzY5",
        "outputId": "eb7d79fb-d90b-446f-dd5a-1ba62ac67efd"
      },
      "execution_count": null,
      "outputs": [
        {
          "output_type": "execute_result",
          "data": {
            "text/plain": [
              "False"
            ]
          },
          "metadata": {},
          "execution_count": 3
        }
      ]
    },
    {
      "cell_type": "code",
      "source": [
        "if 'a' in 'abe':                # \"if statement\" can be used with \"in\" and \"not in\" statements!\n",
        "  print('Yes')\n",
        "else:\n",
        "  print('No')"
      ],
      "metadata": {
        "colab": {
          "base_uri": "https://localhost:8080/"
        },
        "id": "-8oXT3EG2_Yv",
        "outputId": "ea766e8e-b5d5-464e-a57a-3fbb3f4f37a6"
      },
      "execution_count": 13,
      "outputs": [
        {
          "output_type": "stream",
          "name": "stdout",
          "text": [
            "Yes\n"
          ]
        }
      ]
    },
    {
      "cell_type": "code",
      "source": [
        "if 1 not in [1, 2, 3]:\n",
        "  print('No')\n",
        "else:\n",
        "  print('Yes')"
      ],
      "metadata": {
        "colab": {
          "base_uri": "https://localhost:8080/"
        },
        "id": "yLDw7mE63clr",
        "outputId": "4f2c36c8-57d7-4ada-ca79-719610b6775c"
      },
      "execution_count": 15,
      "outputs": [
        {
          "output_type": "stream",
          "name": "stdout",
          "text": [
            "Yes\n"
          ]
        }
      ]
    },
    {
      "cell_type": "code",
      "source": [
        "# while statement: conditionally repeating the command"
      ],
      "metadata": {
        "id": "FJVlfnRrSRwP"
      },
      "execution_count": null,
      "outputs": []
    },
    {
      "cell_type": "code",
      "source": [
        "a = 0\n",
        "while a < 3:\n",
        "  print(a)\n",
        "  a += 1              # operator \"+=\"  :  a = a + 1"
      ],
      "metadata": {
        "colab": {
          "base_uri": "https://localhost:8080/"
        },
        "id": "mqeWtwOQWYrg",
        "outputId": "2341623c-e11b-4985-d325-8de085e44b95"
      },
      "execution_count": null,
      "outputs": [
        {
          "output_type": "stream",
          "name": "stdout",
          "text": [
            "0\n",
            "1\n",
            "2\n"
          ]
        }
      ]
    },
    {
      "cell_type": "code",
      "source": [
        "current_number = 1\n",
        "while current_number <= 5:\n",
        "  print(current_number)\n",
        "  current_number += 1           # current_number = current_number + 1"
      ],
      "metadata": {
        "colab": {
          "base_uri": "https://localhost:8080/"
        },
        "id": "qQLkuu_oSkbG",
        "outputId": "1842b48d-3455-4041-9498-958b24ff69ce"
      },
      "execution_count": null,
      "outputs": [
        {
          "output_type": "stream",
          "name": "stdout",
          "text": [
            "1\n",
            "2\n",
            "3\n",
            "4\n",
            "5\n"
          ]
        }
      ]
    },
    {
      "cell_type": "code",
      "source": [
        "for i in range(10):        # \"Repeating\" until digits created by the range command are completely called.\n",
        "    if i % 2 == 0:         \n",
        "        continue           #  When the if statement is 'True', then program goes back to the \"for statement\" without executing \"print\"!\n",
        "    print(i)"
      ],
      "metadata": {
        "colab": {
          "base_uri": "https://localhost:8080/"
        },
        "id": "dImkFKG7C20_",
        "outputId": "257414ff-6a2b-4f25-ca3a-eb17f9b33cc3"
      },
      "execution_count": 18,
      "outputs": [
        {
          "output_type": "stream",
          "name": "stdout",
          "text": [
            "1\n",
            "3\n",
            "5\n",
            "7\n",
            "9\n"
          ]
        }
      ]
    },
    {
      "cell_type": "code",
      "source": [
        "current_number = 0\n",
        "while current_number < 10:             #  \"Repeating\" until the variable \"current_number\" becomes less than 10.\n",
        "  current_number += 1  \n",
        "  if current_number % 2 == 0:      \n",
        "    continue                           #  \"continue\" commands let Python to ignore the rest of loop, and return to the beginning\n",
        "  print(current_number)  "
      ],
      "metadata": {
        "colab": {
          "base_uri": "https://localhost:8080/"
        },
        "id": "Fuv2HWLMSwcX",
        "outputId": "12dd9468-bf9c-4254-cef4-e1785c736670"
      },
      "execution_count": null,
      "outputs": [
        {
          "output_type": "stream",
          "name": "stdout",
          "text": [
            "1\n",
            "3\n",
            "5\n",
            "7\n",
            "9\n"
          ]
        }
      ]
    },
    {
      "cell_type": "code",
      "source": [
        "pets = ['dog', 'cat', 'dog', 'goldfish', 'cat', 'rabbit', 'cat']\n",
        "print(pets)\n",
        "while 'cat' in pets:\n",
        "  pets.remove('cat')\n",
        "print(pets)"
      ],
      "metadata": {
        "colab": {
          "base_uri": "https://localhost:8080/"
        },
        "id": "kgXzqOkITNZe",
        "outputId": "73a047b7-3387-454f-e41c-cead414c502c"
      },
      "execution_count": null,
      "outputs": [
        {
          "output_type": "stream",
          "name": "stdout",
          "text": [
            "['dog', 'cat', 'dog', 'goldfish', 'cat', 'rabbit', 'cat']\n",
            "['dog', 'dog', 'goldfish', 'rabbit']\n"
          ]
        }
      ]
    },
    {
      "cell_type": "code",
      "source": [
        "#  Function : conditionally repeating the command "
      ],
      "metadata": {
        "id": "4yiaY8jUWOEe"
      },
      "execution_count": null,
      "outputs": []
    },
    {
      "cell_type": "code",
      "source": [
        "def add(a, b):      #  \"def\" is leading command for defining \"Function\"      \"add\" is the name of function in this coding.\n",
        "  c = a + b\n",
        "  return c          #  \"return\" assigns value in the defined variable\n",
        "add(2, 3)           #  execution of the defined function"
      ],
      "metadata": {
        "colab": {
          "base_uri": "https://localhost:8080/"
        },
        "id": "RvsWhVDCW4yu",
        "outputId": "7a55b2b2-e058-4409-a981-8c8db9393add"
      },
      "execution_count": 19,
      "outputs": [
        {
          "output_type": "execute_result",
          "data": {
            "text/plain": [
              "5"
            ]
          },
          "metadata": {},
          "execution_count": 19
        }
      ]
    },
    {
      "cell_type": "code",
      "source": [
        "def add(a, b):      #  \"def\" is leading command for defining \"Function\"      \"add\" is the name of function in this coding.\n",
        "  c = a + b\n",
        "  return c          #  \"return\" assigns value in the defined variable\n",
        "print(add(2, 3))    #  execution by \"print\" command of the defined function"
      ],
      "metadata": {
        "id": "ZCexKggU_yJI"
      },
      "execution_count": null,
      "outputs": []
    },
    {
      "cell_type": "code",
      "source": [
        "def add(a, b=4):\n",
        "  c = a + b\n",
        "  return c\n",
        "print(add(3))"
      ],
      "metadata": {
        "colab": {
          "base_uri": "https://localhost:8080/"
        },
        "id": "KtDajgPVXAnO",
        "outputId": "fceb4e2e-6c9c-4fc9-b437-2a74777bfc54"
      },
      "execution_count": null,
      "outputs": [
        {
          "output_type": "stream",
          "name": "stdout",
          "text": [
            "7\n"
          ]
        }
      ]
    },
    {
      "cell_type": "code",
      "source": [
        "def nice_programmer(username):\n",
        "  print(\"Hello \"+ username +\" !\")\n",
        "nice_programmer('Abe')"
      ],
      "metadata": {
        "colab": {
          "base_uri": "https://localhost:8080/"
        },
        "id": "QziaxcLxY73J",
        "outputId": "09640d40-5284-4ea1-e0f0-28a81fb10d2d"
      },
      "execution_count": null,
      "outputs": [
        {
          "output_type": "stream",
          "name": "stdout",
          "text": [
            "Hello Abe !\n"
          ]
        }
      ]
    },
    {
      "cell_type": "code",
      "source": [
        "#  Function : Global Variable and Local Variable"
      ],
      "metadata": {
        "id": "Rrz1szAxXpPW"
      },
      "execution_count": null,
      "outputs": []
    },
    {
      "cell_type": "code",
      "source": [
        "a = 21                #   \"a\" is a global variable\n",
        "\n",
        "def sn():\n",
        "  b = 43              #   \"b\" is a local variable\n",
        "  print(a, b)\n",
        "\n",
        "sn()"
      ],
      "metadata": {
        "colab": {
          "base_uri": "https://localhost:8080/"
        },
        "id": "6-fjtzzAXwTe",
        "outputId": "025ffe55-313e-4215-ca80-72447a82f9a5"
      },
      "execution_count": null,
      "outputs": [
        {
          "output_type": "stream",
          "name": "stdout",
          "text": [
            "21 43\n"
          ]
        }
      ]
    },
    {
      "cell_type": "code",
      "source": [
        "a = 21\n",
        "\n",
        "def sn():\n",
        "  a = 43\n",
        "  print(\"Local:\", a)\n",
        "\n",
        "sn()\n",
        "print(\"Global:\", a)"
      ],
      "metadata": {
        "colab": {
          "base_uri": "https://localhost:8080/"
        },
        "id": "FjTtqPpjX502",
        "outputId": "a1623b2f-92f5-4769-9c9a-258292311721"
      },
      "execution_count": null,
      "outputs": [
        {
          "output_type": "stream",
          "name": "stdout",
          "text": [
            "Local: 43\n",
            "Global: 21\n"
          ]
        }
      ]
    },
    {
      "cell_type": "code",
      "source": [
        "a = 21\n",
        "\n",
        "def sn():\n",
        "  global a                #  Defining of the variable \"a\" as Global Variable!\n",
        "  a = 43\n",
        "  print(\"Global:\", a)\n",
        "\n",
        "sn()\n",
        "print(\"Global:\", a)"
      ],
      "metadata": {
        "colab": {
          "base_uri": "https://localhost:8080/"
        },
        "id": "qQ0CzPrdYRlW",
        "outputId": "3bcce616-d5d0-4c6a-e737-8c35e2ddbdb4"
      },
      "execution_count": null,
      "outputs": [
        {
          "output_type": "stream",
          "name": "stdout",
          "text": [
            "Global: 43\n",
            "Global: 43\n"
          ]
        }
      ]
    },
    {
      "cell_type": "code",
      "source": [],
      "metadata": {
        "id": "Q3JXnGaaYn8e"
      },
      "execution_count": null,
      "outputs": []
    }
  ]
}