{
  "nbformat": 4,
  "nbformat_minor": 0,
  "metadata": {
    "colab": {
      "provenance": [],
      "mount_file_id": "1rijfePUg_q7rKq91KebXPSFQBjqjlsC8",
      "authorship_tag": "ABX9TyMxHFvFA1jp/n3jgxcxz9rX",
      "include_colab_link": true
    },
    "kernelspec": {
      "name": "python3",
      "display_name": "Python 3"
    },
    "language_info": {
      "name": "python"
    }
  },
  "cells": [
    {
      "cell_type": "markdown",
      "metadata": {
        "id": "view-in-github",
        "colab_type": "text"
      },
      "source": [
        "<a href=\"https://colab.research.google.com/github/abebae72/abebae.github.io/blob/main/AI_Civil_Lecture4.ipynb\" target=\"_parent\"><img src=\"https://colab.research.google.com/assets/colab-badge.svg\" alt=\"Open In Colab\"/></a>"
      ]
    },
    {
      "cell_type": "code",
      "execution_count": null,
      "metadata": {
        "id": "qrMCkfB4_fI3"
      },
      "outputs": [],
      "source": [
        "# Artificial Intelligence & Civil Engineering : Lecture 4 (Basic Python Language)"
      ]
    },
    {
      "cell_type": "code",
      "source": [
        "# Condition Statements (조건문)"
      ],
      "metadata": {
        "id": "M7kaRYd_B48g"
      },
      "execution_count": null,
      "outputs": []
    },
    {
      "cell_type": "code",
      "source": [
        "# Statement 마지막에 콜론 \":\" 기입 "
      ],
      "metadata": {
        "id": "VIu2hQ4RSB5D"
      },
      "execution_count": null,
      "outputs": []
    },
    {
      "cell_type": "code",
      "source": [
        "# Condition 내에서는 들여쓰기 (Indentation) "
      ],
      "metadata": {
        "id": "LOYpCpchSIoQ"
      },
      "execution_count": null,
      "outputs": []
    },
    {
      "cell_type": "code",
      "source": [
        "# \"for ~ \" Statement\n",
        "   #   \"리스트\"가 많이 사용됨\n",
        "   #   연산자 \"range()\", \"in()\"이 많이 사용됨\n"
      ],
      "metadata": {
        "id": "fiKwVdC7SWcx"
      },
      "execution_count": null,
      "outputs": []
    },
    {
      "cell_type": "code",
      "source": [],
      "metadata": {
        "id": "7o3eucyhSZ5s"
      },
      "execution_count": null,
      "outputs": []
    },
    {
      "cell_type": "code",
      "source": [
        "for a in [3, 5, 7, 9]:\n",
        "  print(a)"
      ],
      "metadata": {
        "colab": {
          "base_uri": "https://localhost:8080/"
        },
        "id": "eoFAcjMOSxMj",
        "outputId": "e5b3aee2-14bd-4b89-f377-6af00fdce7b1"
      },
      "execution_count": null,
      "outputs": [
        {
          "output_type": "stream",
          "name": "stdout",
          "text": [
            "3\n",
            "5\n",
            "7\n",
            "9\n"
          ]
        }
      ]
    },
    {
      "cell_type": "code",
      "source": [
        "for a in range(5):      #      range([시작번호], 종료번호, 스텝수]])\n",
        "  print(a)"
      ],
      "metadata": {
        "colab": {
          "base_uri": "https://localhost:8080/"
        },
        "id": "_WaZaPdyS287",
        "outputId": "68906548-4981-4a29-b29d-f34c8f64a33b"
      },
      "execution_count": null,
      "outputs": [
        {
          "output_type": "stream",
          "name": "stdout",
          "text": [
            "0\n",
            "1\n",
            "2\n",
            "3\n",
            "4\n"
          ]
        }
      ]
    },
    {
      "cell_type": "code",
      "source": [
        "for value in range(1,5):\n",
        "  print(value)"
      ],
      "metadata": {
        "colab": {
          "base_uri": "https://localhost:8080/"
        },
        "id": "tCP68dDiS51S",
        "outputId": "823ea801-bfe9-4883-ea50-cec4a77a7af7"
      },
      "execution_count": null,
      "outputs": [
        {
          "output_type": "stream",
          "name": "stdout",
          "text": [
            "1\n",
            "2\n",
            "3\n",
            "4\n"
          ]
        }
      ]
    },
    {
      "cell_type": "code",
      "source": [
        "squares = []\n",
        "for value in range(1,11):\n",
        "  square = value**2\n",
        "  squares.append(square)\n",
        "print(squares)"
      ],
      "metadata": {
        "colab": {
          "base_uri": "https://localhost:8080/"
        },
        "id": "chj5hVm8TFwq",
        "outputId": "aa370857-d60b-4d57-a3eb-19d9d36c1396"
      },
      "execution_count": null,
      "outputs": [
        {
          "output_type": "stream",
          "name": "stdout",
          "text": [
            "[1, 4, 9, 16, 25, 36, 49, 64, 81, 100]\n"
          ]
        }
      ]
    },
    {
      "cell_type": "code",
      "source": [
        "squares = [value**2 for value in range(1,11)]\n",
        "print(squares)"
      ],
      "metadata": {
        "colab": {
          "base_uri": "https://localhost:8080/"
        },
        "id": "AXKE4qAoTUyp",
        "outputId": "9dc4fe41-3106-488f-b470-bc03126356db"
      },
      "execution_count": null,
      "outputs": [
        {
          "output_type": "stream",
          "name": "stdout",
          "text": [
            "[1, 4, 9, 16, 25, 36, 49, 64, 81, 100]\n"
          ]
        }
      ]
    },
    {
      "cell_type": "code",
      "source": [
        "players = ['철수', '영희', '기범', '석일', '영미']\n",
        "print(\"우리팀에 처음 3명 선수: \")\n",
        "for players in players[:3]:\n",
        "  print(players)"
      ],
      "metadata": {
        "colab": {
          "base_uri": "https://localhost:8080/"
        },
        "id": "PK6YjjVNTzWC",
        "outputId": "66b8b3bc-3306-45e8-a477-5ea89734f3ef"
      },
      "execution_count": null,
      "outputs": [
        {
          "output_type": "stream",
          "name": "stdout",
          "text": [
            "우리팀에 처음 3명 선수: \n",
            "철수\n",
            "영희\n",
            "기범\n"
          ]
        }
      ]
    },
    {
      "cell_type": "code",
      "source": [
        "# if ~ else ~ Statement             (Please be sure about \"Indentation\" !)              "
      ],
      "metadata": {
        "id": "uztWkviWUlXq"
      },
      "execution_count": null,
      "outputs": []
    },
    {
      "cell_type": "code",
      "source": [
        "cars = ['audi', 'bmw', 'toyota', 'hyundai']\n",
        "for car in cars:                                   \n",
        "  if car == 'bmw':                                 # if ~\n",
        "    print(car) \n",
        "  else:                                            # else ~\n",
        "    print(car)"
      ],
      "metadata": {
        "colab": {
          "base_uri": "https://localhost:8080/"
        },
        "id": "A5BzbJC5Us0j",
        "outputId": "3409e794-3515-4ef6-d05a-c6070bfaabb5"
      },
      "execution_count": null,
      "outputs": [
        {
          "output_type": "stream",
          "name": "stdout",
          "text": [
            "audi\n",
            "bmw\n",
            "toyota\n",
            "hyundai\n"
          ]
        }
      ]
    },
    {
      "cell_type": "code",
      "source": [
        "# if ~ elif ~ else ~ Statement "
      ],
      "metadata": {
        "id": "--FxS24MU-3j"
      },
      "execution_count": null,
      "outputs": []
    },
    {
      "cell_type": "code",
      "source": [
        "a = 13\n",
        "if a < 12:\n",
        "  print(\"Good Morning~\")\n",
        "elif a < 17:                              # Test is conducted until the previous test failed\n",
        "  print(\"Good Afternoon~\")\n",
        "elif a < 21:\n",
        "  print(\"Good Evening~\")\n",
        "else:\n",
        "  print(\"Good Night~\")"
      ],
      "metadata": {
        "colab": {
          "base_uri": "https://localhost:8080/"
        },
        "id": "RQqd_PJGVaaj",
        "outputId": "005b34bd-1a91-4261-dd74-cc426dffcbd0"
      },
      "execution_count": null,
      "outputs": [
        {
          "output_type": "stream",
          "name": "stdout",
          "text": [
            "Good Afternoon~\n"
          ]
        }
      ]
    },
    {
      "cell_type": "code",
      "source": [
        "age = 12\n",
        "if age < 4:\n",
        "  price = 0\n",
        "elif age < 18:\n",
        "  price = 25\n",
        "elif age < 65:\n",
        "  price = 40\n",
        "elif age >= 65:\n",
        "  price = 20                                # Clear Coding\n",
        "print(\"Admission Fee :\", price)"
      ],
      "metadata": {
        "colab": {
          "base_uri": "https://localhost:8080/"
        },
        "id": "qsAHknLvVvfq",
        "outputId": "42f449aa-e153-4670-a64a-32b469731f0f"
      },
      "execution_count": 1,
      "outputs": [
        {
          "output_type": "stream",
          "name": "stdout",
          "text": [
            "Admission Fee : 25\n"
          ]
        }
      ]
    },
    {
      "cell_type": "code",
      "source": [
        "#     \" in \"    \" not in \""
      ],
      "metadata": {
        "id": "e1ied-vLSVRJ"
      },
      "execution_count": null,
      "outputs": []
    },
    {
      "cell_type": "code",
      "source": [
        "toppings = ['mushrooms', 'onions', 'pineapple']\n",
        "'mushrooms' in toppings"
      ],
      "metadata": {
        "id": "U0MHAsm4W9Da",
        "colab": {
          "base_uri": "https://localhost:8080/"
        },
        "outputId": "4cf0ba1b-b1d5-4979-ecdd-cd9d90ce19bb"
      },
      "execution_count": null,
      "outputs": [
        {
          "output_type": "execute_result",
          "data": {
            "text/plain": [
              "True"
            ]
          },
          "metadata": {},
          "execution_count": 2
        }
      ]
    },
    {
      "cell_type": "code",
      "source": [
        "'pepperoni' in toppings"
      ],
      "metadata": {
        "colab": {
          "base_uri": "https://localhost:8080/"
        },
        "id": "rImbeq7yRzY5",
        "outputId": "eb7d79fb-d90b-446f-dd5a-1ba62ac67efd"
      },
      "execution_count": null,
      "outputs": [
        {
          "output_type": "execute_result",
          "data": {
            "text/plain": [
              "False"
            ]
          },
          "metadata": {},
          "execution_count": 3
        }
      ]
    },
    {
      "cell_type": "code",
      "source": [
        "# while ~  : conditionally repeating the command"
      ],
      "metadata": {
        "id": "FJVlfnRrSRwP"
      },
      "execution_count": null,
      "outputs": []
    },
    {
      "cell_type": "code",
      "source": [
        "a = 0\n",
        "while a < 3:\n",
        "  print(a)\n",
        "  a += 1              # operator \"+=\"  :  a = a + 1"
      ],
      "metadata": {
        "colab": {
          "base_uri": "https://localhost:8080/"
        },
        "id": "mqeWtwOQWYrg",
        "outputId": "2341623c-e11b-4985-d325-8de085e44b95"
      },
      "execution_count": null,
      "outputs": [
        {
          "output_type": "stream",
          "name": "stdout",
          "text": [
            "0\n",
            "1\n",
            "2\n"
          ]
        }
      ]
    },
    {
      "cell_type": "code",
      "source": [
        "current_number = 1\n",
        "while current_number <= 5:\n",
        "  print(current_number)\n",
        "  current_number += 1           # current_number = current_number + 1"
      ],
      "metadata": {
        "colab": {
          "base_uri": "https://localhost:8080/"
        },
        "id": "qQLkuu_oSkbG",
        "outputId": "1842b48d-3455-4041-9498-958b24ff69ce"
      },
      "execution_count": null,
      "outputs": [
        {
          "output_type": "stream",
          "name": "stdout",
          "text": [
            "1\n",
            "2\n",
            "3\n",
            "4\n",
            "5\n"
          ]
        }
      ]
    },
    {
      "cell_type": "code",
      "source": [
        "current_number = 0\n",
        "while current_number < 10:\n",
        "  current_number += 1  \n",
        "  if current_number % 2 == 0:      \n",
        "    continue                           #  \"continue\" commands let Python to ignore the rest of loop, and return to the beginning\n",
        "  print(current_number)  "
      ],
      "metadata": {
        "colab": {
          "base_uri": "https://localhost:8080/"
        },
        "id": "Fuv2HWLMSwcX",
        "outputId": "12dd9468-bf9c-4254-cef4-e1785c736670"
      },
      "execution_count": null,
      "outputs": [
        {
          "output_type": "stream",
          "name": "stdout",
          "text": [
            "1\n",
            "3\n",
            "5\n",
            "7\n",
            "9\n"
          ]
        }
      ]
    },
    {
      "cell_type": "code",
      "source": [
        "pets = ['dog', 'cat', 'dog', 'goldfish', 'cat', 'rabbit', 'cat']\n",
        "print(pets)\n",
        "while 'cat' in pets:\n",
        "  pets.remove('cat')\n",
        "print(pets)"
      ],
      "metadata": {
        "colab": {
          "base_uri": "https://localhost:8080/"
        },
        "id": "kgXzqOkITNZe",
        "outputId": "73a047b7-3387-454f-e41c-cead414c502c"
      },
      "execution_count": null,
      "outputs": [
        {
          "output_type": "stream",
          "name": "stdout",
          "text": [
            "['dog', 'cat', 'dog', 'goldfish', 'cat', 'rabbit', 'cat']\n",
            "['dog', 'dog', 'goldfish', 'rabbit']\n"
          ]
        }
      ]
    },
    {
      "cell_type": "code",
      "source": [
        "#  Function : conditionally repeating the command"
      ],
      "metadata": {
        "id": "4yiaY8jUWOEe"
      },
      "execution_count": null,
      "outputs": []
    },
    {
      "cell_type": "code",
      "source": [
        "def add(a, b):      #  \"def\" is leading command for defining \"Function\"      \"add\" is the name of function in this coding.\n",
        "  c = a + b\n",
        "  return c          #  \"return\" assigns value in the defined variable\n",
        "print(add(2, 3))    #  execution of the defined function"
      ],
      "metadata": {
        "colab": {
          "base_uri": "https://localhost:8080/"
        },
        "id": "RvsWhVDCW4yu",
        "outputId": "c3460c27-a82a-4033-9596-f7aa78df672f"
      },
      "execution_count": null,
      "outputs": [
        {
          "output_type": "stream",
          "name": "stdout",
          "text": [
            "5\n"
          ]
        }
      ]
    },
    {
      "cell_type": "code",
      "source": [
        "def add(a, b=4):\n",
        "  c = a + b\n",
        "  return c\n",
        "print(add(3))"
      ],
      "metadata": {
        "colab": {
          "base_uri": "https://localhost:8080/"
        },
        "id": "KtDajgPVXAnO",
        "outputId": "fceb4e2e-6c9c-4fc9-b437-2a74777bfc54"
      },
      "execution_count": null,
      "outputs": [
        {
          "output_type": "stream",
          "name": "stdout",
          "text": [
            "7\n"
          ]
        }
      ]
    },
    {
      "cell_type": "code",
      "source": [
        "def nice_programmer(username):\n",
        "  print(\"Hello \"+ username +\" !\")\n",
        "nice_programmer('Abe')"
      ],
      "metadata": {
        "colab": {
          "base_uri": "https://localhost:8080/"
        },
        "id": "QziaxcLxY73J",
        "outputId": "09640d40-5284-4ea1-e0f0-28a81fb10d2d"
      },
      "execution_count": null,
      "outputs": [
        {
          "output_type": "stream",
          "name": "stdout",
          "text": [
            "Hello Abe !\n"
          ]
        }
      ]
    },
    {
      "cell_type": "code",
      "source": [
        "#  Function : Global Variable and Local Variable"
      ],
      "metadata": {
        "id": "Rrz1szAxXpPW"
      },
      "execution_count": null,
      "outputs": []
    },
    {
      "cell_type": "code",
      "source": [
        "a = 21                #   \"a\" is a global variable\n",
        "\n",
        "def sn():\n",
        "  b = 43              #   \"b\" is a local variable\n",
        "  print(a, b)\n",
        "\n",
        "sn()"
      ],
      "metadata": {
        "colab": {
          "base_uri": "https://localhost:8080/"
        },
        "id": "6-fjtzzAXwTe",
        "outputId": "025ffe55-313e-4215-ca80-72447a82f9a5"
      },
      "execution_count": null,
      "outputs": [
        {
          "output_type": "stream",
          "name": "stdout",
          "text": [
            "21 43\n"
          ]
        }
      ]
    },
    {
      "cell_type": "code",
      "source": [
        "a = 21\n",
        "\n",
        "def sn():\n",
        "  a = 43\n",
        "  print(\"Local:\", a)\n",
        "\n",
        "sn()\n",
        "print(\"Global:\", a)"
      ],
      "metadata": {
        "colab": {
          "base_uri": "https://localhost:8080/"
        },
        "id": "FjTtqPpjX502",
        "outputId": "a1623b2f-92f5-4769-9c9a-258292311721"
      },
      "execution_count": null,
      "outputs": [
        {
          "output_type": "stream",
          "name": "stdout",
          "text": [
            "Local: 43\n",
            "Global: 21\n"
          ]
        }
      ]
    },
    {
      "cell_type": "code",
      "source": [
        "a = 21\n",
        "\n",
        "def sn():\n",
        "  global a                #  Defining of the variable \"a\" as Global Variable!\n",
        "  a = 43\n",
        "  print(\"Global:\", a)\n",
        "\n",
        "sn()\n",
        "print(\"Global:\", a)"
      ],
      "metadata": {
        "colab": {
          "base_uri": "https://localhost:8080/"
        },
        "id": "qQ0CzPrdYRlW",
        "outputId": "3bcce616-d5d0-4c6a-e737-8c35e2ddbdb4"
      },
      "execution_count": null,
      "outputs": [
        {
          "output_type": "stream",
          "name": "stdout",
          "text": [
            "Global: 43\n",
            "Global: 43\n"
          ]
        }
      ]
    },
    {
      "cell_type": "code",
      "source": [],
      "metadata": {
        "id": "Q3JXnGaaYn8e"
      },
      "execution_count": null,
      "outputs": []
    }
  ]
}